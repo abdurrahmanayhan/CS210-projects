{
 "cells": [
  {
   "cell_type": "markdown",
   "metadata": {},
   "source": [
    "# INTRODUCTION TO DATA SCIENCE\n",
    "\n",
    "# CS210 INDIVIDUAL TERM PROJECT\n",
    "\n",
    "ABDURRAHMAN AYHAN 17891  abdurrahmanayhan@sabanciuniv.edu"
   ]
  },
  {
   "cell_type": "markdown",
   "metadata": {},
   "source": [
    "# Data Exploration\n"
   ]
  },
  {
   "cell_type": "markdown",
   "metadata": {},
   "source": [
    "##### Give basic information regarding the dataset such as shape, data types and descriptive statistics that summarize columns.\n"
   ]
  },
  {
   "cell_type": "code",
   "execution_count": 37,
   "metadata": {},
   "outputs": [],
   "source": [
    "import numpy as np\n",
    "import pandas as pd\n",
    "import matplotlib.pyplot as plt\n",
    "import seaborn as sns\n",
    "#Upload the data into code\n",
    "input_file = \"taxi-trips.csv\"\n",
    "\n",
    "\n",
    "# reading data from the csv file\n",
    "df = pd.read_csv(input_file, header = 0)\n",
    "# print(df)\n"
   ]
  },
  {
   "cell_type": "code",
   "execution_count": 38,
   "metadata": {},
   "outputs": [
    {
     "data": {
      "text/html": [
       "<div>\n",
       "<style scoped>\n",
       "    .dataframe tbody tr th:only-of-type {\n",
       "        vertical-align: middle;\n",
       "    }\n",
       "\n",
       "    .dataframe tbody tr th {\n",
       "        vertical-align: top;\n",
       "    }\n",
       "\n",
       "    .dataframe thead th {\n",
       "        text-align: right;\n",
       "    }\n",
       "</style>\n",
       "<table border=\"1\" class=\"dataframe\">\n",
       "  <thead>\n",
       "    <tr style=\"text-align: right;\">\n",
       "      <th></th>\n",
       "      <th>id</th>\n",
       "      <th>vendor_id</th>\n",
       "      <th>pickup_datetime</th>\n",
       "      <th>dropoff_datetime</th>\n",
       "      <th>passenger_count</th>\n",
       "      <th>pickup_longitude</th>\n",
       "      <th>pickup_latitude</th>\n",
       "      <th>dropoff_longitude</th>\n",
       "      <th>dropoff_latitude</th>\n",
       "      <th>store_and_fwd_flag</th>\n",
       "      <th>trip_duration</th>\n",
       "    </tr>\n",
       "  </thead>\n",
       "  <tbody>\n",
       "    <tr>\n",
       "      <th>0</th>\n",
       "      <td>id2875421</td>\n",
       "      <td>2</td>\n",
       "      <td>2016-03-14 17:24:55</td>\n",
       "      <td>2016-03-14 17:32:30</td>\n",
       "      <td>1</td>\n",
       "      <td>-73.982155</td>\n",
       "      <td>40.767937</td>\n",
       "      <td>-73.964630</td>\n",
       "      <td>40.765602</td>\n",
       "      <td>N</td>\n",
       "      <td>455</td>\n",
       "    </tr>\n",
       "    <tr>\n",
       "      <th>1</th>\n",
       "      <td>id0012891</td>\n",
       "      <td>2</td>\n",
       "      <td>2016-03-10 21:45:01</td>\n",
       "      <td>2016-03-10 22:05:26</td>\n",
       "      <td>1</td>\n",
       "      <td>-73.981049</td>\n",
       "      <td>40.744339</td>\n",
       "      <td>-73.973000</td>\n",
       "      <td>40.789989</td>\n",
       "      <td>N</td>\n",
       "      <td>1225</td>\n",
       "    </tr>\n",
       "    <tr>\n",
       "      <th>2</th>\n",
       "      <td>id3361153</td>\n",
       "      <td>1</td>\n",
       "      <td>2016-03-11 07:11:23</td>\n",
       "      <td>2016-03-11 07:20:09</td>\n",
       "      <td>1</td>\n",
       "      <td>-73.994560</td>\n",
       "      <td>40.750526</td>\n",
       "      <td>-73.978500</td>\n",
       "      <td>40.756191</td>\n",
       "      <td>N</td>\n",
       "      <td>526</td>\n",
       "    </tr>\n",
       "    <tr>\n",
       "      <th>3</th>\n",
       "      <td>id2129090</td>\n",
       "      <td>1</td>\n",
       "      <td>2016-03-14 14:05:39</td>\n",
       "      <td>2016-03-14 14:28:05</td>\n",
       "      <td>1</td>\n",
       "      <td>-73.975090</td>\n",
       "      <td>40.758766</td>\n",
       "      <td>-73.953201</td>\n",
       "      <td>40.765068</td>\n",
       "      <td>N</td>\n",
       "      <td>1346</td>\n",
       "    </tr>\n",
       "    <tr>\n",
       "      <th>4</th>\n",
       "      <td>id0256505</td>\n",
       "      <td>1</td>\n",
       "      <td>2016-03-14 15:04:38</td>\n",
       "      <td>2016-03-14 15:16:13</td>\n",
       "      <td>1</td>\n",
       "      <td>-73.994484</td>\n",
       "      <td>40.745087</td>\n",
       "      <td>-73.998993</td>\n",
       "      <td>40.722710</td>\n",
       "      <td>N</td>\n",
       "      <td>695</td>\n",
       "    </tr>\n",
       "  </tbody>\n",
       "</table>\n",
       "</div>"
      ],
      "text/plain": [
       "          id  vendor_id      pickup_datetime     dropoff_datetime  \\\n",
       "0  id2875421          2  2016-03-14 17:24:55  2016-03-14 17:32:30   \n",
       "1  id0012891          2  2016-03-10 21:45:01  2016-03-10 22:05:26   \n",
       "2  id3361153          1  2016-03-11 07:11:23  2016-03-11 07:20:09   \n",
       "3  id2129090          1  2016-03-14 14:05:39  2016-03-14 14:28:05   \n",
       "4  id0256505          1  2016-03-14 15:04:38  2016-03-14 15:16:13   \n",
       "\n",
       "   passenger_count  pickup_longitude  pickup_latitude  dropoff_longitude  \\\n",
       "0                1        -73.982155        40.767937         -73.964630   \n",
       "1                1        -73.981049        40.744339         -73.973000   \n",
       "2                1        -73.994560        40.750526         -73.978500   \n",
       "3                1        -73.975090        40.758766         -73.953201   \n",
       "4                1        -73.994484        40.745087         -73.998993   \n",
       "\n",
       "   dropoff_latitude store_and_fwd_flag  trip_duration  \n",
       "0         40.765602                  N            455  \n",
       "1         40.789989                  N           1225  \n",
       "2         40.756191                  N            526  \n",
       "3         40.765068                  N           1346  \n",
       "4         40.722710                  N            695  "
      ]
     },
     "execution_count": 38,
     "metadata": {},
     "output_type": "execute_result"
    }
   ],
   "source": [
    "#the head of the columns and the example 4 rows to see d,what data include\n",
    "df.head()"
   ]
  },
  {
   "cell_type": "code",
   "execution_count": 39,
   "metadata": {},
   "outputs": [
    {
     "name": "stdout",
     "output_type": "stream",
     "text": [
      "(118185, 11)\n"
     ]
    }
   ],
   "source": [
    "#row and column number to show shape of data\n",
    "row,column = df.shape\n",
    "print(df.shape)\n"
   ]
  },
  {
   "cell_type": "code",
   "execution_count": 40,
   "metadata": {},
   "outputs": [
    {
     "name": "stdout",
     "output_type": "stream",
     "text": [
      "id                     object\n",
      "vendor_id               int64\n",
      "pickup_datetime        object\n",
      "dropoff_datetime       object\n",
      "passenger_count         int64\n",
      "pickup_longitude      float64\n",
      "pickup_latitude       float64\n",
      "dropoff_longitude     float64\n",
      "dropoff_latitude      float64\n",
      "store_and_fwd_flag     object\n",
      "trip_duration           int64\n",
      "dtype: object\n"
     ]
    }
   ],
   "source": [
    "#data types of each column in the data\n",
    "print(df.dtypes)"
   ]
  },
  {
   "cell_type": "code",
   "execution_count": 41,
   "metadata": {},
   "outputs": [
    {
     "data": {
      "text/plain": [
       "id                    0\n",
       "vendor_id             0\n",
       "pickup_datetime       0\n",
       "dropoff_datetime      0\n",
       "passenger_count       0\n",
       "pickup_longitude      0\n",
       "pickup_latitude       0\n",
       "dropoff_longitude     0\n",
       "dropoff_latitude      0\n",
       "store_and_fwd_flag    0\n",
       "trip_duration         0\n",
       "dtype: int64"
      ]
     },
     "execution_count": 41,
     "metadata": {},
     "output_type": "execute_result"
    }
   ],
   "source": [
    "#control the data have null input or everything is clear to test\n",
    "df.isnull().sum()"
   ]
  },
  {
   "cell_type": "code",
   "execution_count": 42,
   "metadata": {},
   "outputs": [
    {
     "data": {
      "text/html": [
       "<div>\n",
       "<style scoped>\n",
       "    .dataframe tbody tr th:only-of-type {\n",
       "        vertical-align: middle;\n",
       "    }\n",
       "\n",
       "    .dataframe tbody tr th {\n",
       "        vertical-align: top;\n",
       "    }\n",
       "\n",
       "    .dataframe thead th {\n",
       "        text-align: right;\n",
       "    }\n",
       "</style>\n",
       "<table border=\"1\" class=\"dataframe\">\n",
       "  <thead>\n",
       "    <tr style=\"text-align: right;\">\n",
       "      <th></th>\n",
       "      <th>vendor_id</th>\n",
       "      <th>passenger_count</th>\n",
       "      <th>pickup_longitude</th>\n",
       "      <th>pickup_latitude</th>\n",
       "      <th>dropoff_longitude</th>\n",
       "      <th>dropoff_latitude</th>\n",
       "      <th>trip_duration</th>\n",
       "    </tr>\n",
       "  </thead>\n",
       "  <tbody>\n",
       "    <tr>\n",
       "      <th>count</th>\n",
       "      <td>118185.000000</td>\n",
       "      <td>118185.000000</td>\n",
       "      <td>118185.000000</td>\n",
       "      <td>118185.000000</td>\n",
       "      <td>118185.000000</td>\n",
       "      <td>118185.000000</td>\n",
       "      <td>118185.000000</td>\n",
       "    </tr>\n",
       "    <tr>\n",
       "      <th>mean</th>\n",
       "      <td>1.534958</td>\n",
       "      <td>1.657148</td>\n",
       "      <td>-73.973971</td>\n",
       "      <td>40.751392</td>\n",
       "      <td>-73.973538</td>\n",
       "      <td>40.752212</td>\n",
       "      <td>927.186310</td>\n",
       "    </tr>\n",
       "    <tr>\n",
       "      <th>std</th>\n",
       "      <td>0.498779</td>\n",
       "      <td>1.313844</td>\n",
       "      <td>0.040456</td>\n",
       "      <td>0.027958</td>\n",
       "      <td>0.039192</td>\n",
       "      <td>0.032284</td>\n",
       "      <td>3118.710246</td>\n",
       "    </tr>\n",
       "    <tr>\n",
       "      <th>min</th>\n",
       "      <td>1.000000</td>\n",
       "      <td>0.000000</td>\n",
       "      <td>-79.487900</td>\n",
       "      <td>40.225803</td>\n",
       "      <td>-79.487900</td>\n",
       "      <td>40.225800</td>\n",
       "      <td>1.000000</td>\n",
       "    </tr>\n",
       "    <tr>\n",
       "      <th>25%</th>\n",
       "      <td>1.000000</td>\n",
       "      <td>1.000000</td>\n",
       "      <td>-73.991875</td>\n",
       "      <td>40.737835</td>\n",
       "      <td>-73.991394</td>\n",
       "      <td>40.736462</td>\n",
       "      <td>393.000000</td>\n",
       "    </tr>\n",
       "    <tr>\n",
       "      <th>50%</th>\n",
       "      <td>2.000000</td>\n",
       "      <td>1.000000</td>\n",
       "      <td>-73.981796</td>\n",
       "      <td>40.754501</td>\n",
       "      <td>-73.979759</td>\n",
       "      <td>40.754848</td>\n",
       "      <td>652.000000</td>\n",
       "    </tr>\n",
       "    <tr>\n",
       "      <th>75%</th>\n",
       "      <td>2.000000</td>\n",
       "      <td>2.000000</td>\n",
       "      <td>-73.967575</td>\n",
       "      <td>40.768471</td>\n",
       "      <td>-73.962990</td>\n",
       "      <td>40.770077</td>\n",
       "      <td>1048.000000</td>\n",
       "    </tr>\n",
       "    <tr>\n",
       "      <th>max</th>\n",
       "      <td>2.000000</td>\n",
       "      <td>6.000000</td>\n",
       "      <td>-73.425018</td>\n",
       "      <td>41.292198</td>\n",
       "      <td>-73.055977</td>\n",
       "      <td>41.292198</td>\n",
       "      <td>86366.000000</td>\n",
       "    </tr>\n",
       "  </tbody>\n",
       "</table>\n",
       "</div>"
      ],
      "text/plain": [
       "           vendor_id  passenger_count  pickup_longitude  pickup_latitude  \\\n",
       "count  118185.000000    118185.000000     118185.000000    118185.000000   \n",
       "mean        1.534958         1.657148        -73.973971        40.751392   \n",
       "std         0.498779         1.313844          0.040456         0.027958   \n",
       "min         1.000000         0.000000        -79.487900        40.225803   \n",
       "25%         1.000000         1.000000        -73.991875        40.737835   \n",
       "50%         2.000000         1.000000        -73.981796        40.754501   \n",
       "75%         2.000000         2.000000        -73.967575        40.768471   \n",
       "max         2.000000         6.000000        -73.425018        41.292198   \n",
       "\n",
       "       dropoff_longitude  dropoff_latitude  trip_duration  \n",
       "count      118185.000000     118185.000000  118185.000000  \n",
       "mean          -73.973538         40.752212     927.186310  \n",
       "std             0.039192          0.032284    3118.710246  \n",
       "min           -79.487900         40.225800       1.000000  \n",
       "25%           -73.991394         40.736462     393.000000  \n",
       "50%           -73.979759         40.754848     652.000000  \n",
       "75%           -73.962990         40.770077    1048.000000  \n",
       "max           -73.055977         41.292198   86366.000000  "
      ]
     },
     "execution_count": 42,
     "metadata": {},
     "output_type": "execute_result"
    }
   ],
   "source": [
    "#some descriptive statistics about the data \n",
    "df.describe()"
   ]
  },
  {
   "cell_type": "code",
   "execution_count": 67,
   "metadata": {},
   "outputs": [
    {
     "data": {
      "image/png": "[encoded data removed]",
      "text/plain": [
       "<Figure size 432x288 with 1 Axes>"
      ]
     },
     "metadata": {
      "needs_background": "light"
     },
     "output_type": "display_data"
    }
   ],
   "source": [
    "#graph of distribution of each column data\n",
    "sns.distplot(df[\"vendor_id\"].values, norm_hist=True)  \n",
    "plt.show()"
   ]
  },
  {
   "cell_type": "code",
   "execution_count": 44,
   "metadata": {},
   "outputs": [
    {
     "data": {
      "image/png": "[encoded data removed]",
      "text/plain": [
       "<Figure size 432x288 with 1 Axes>"
      ]
     },
     "metadata": {
      "needs_background": "light"
     },
     "output_type": "display_data"
    }
   ],
   "source": [
    "sns.distplot(df[\"passenger_count\"].values, norm_hist=True)  \n",
    "plt.show()"
   ]
  },
  {
   "cell_type": "code",
   "execution_count": 45,
   "metadata": {},
   "outputs": [
    {
     "data": {
      "image/png": "[encoded data removed]",
      "text/plain": [
       "<Figure size 432x288 with 1 Axes>"
      ]
     },
     "metadata": {
      "needs_background": "light"
     },
     "output_type": "display_data"
    }
   ],
   "source": [
    "sns.distplot(df[\"pickup_longitude\"].values, norm_hist=True) \n",
    "plt.show()"
   ]
  },
  {
   "cell_type": "code",
   "execution_count": 46,
   "metadata": {},
   "outputs": [
    {
     "data": {
      "image/png": "[encoded data removed]",
      "text/plain": [
       "<Figure size 432x288 with 1 Axes>"
      ]
     },
     "metadata": {
      "needs_background": "light"
     },
     "output_type": "display_data"
    }
   ],
   "source": [
    "sns.distplot(df[\"pickup_latitude\"].values, norm_hist=True)  \n",
    "plt.show()"
   ]
  },
  {
   "cell_type": "code",
   "execution_count": 47,
   "metadata": {},
   "outputs": [
    {
     "data": {
      "image/png": "[encoded data removed]",
      "text/plain": [
       "<Figure size 432x288 with 1 Axes>"
      ]
     },
     "metadata": {
      "needs_background": "light"
     },
     "output_type": "display_data"
    }
   ],
   "source": [
    "sns.distplot(df[\"dropoff_longitude\"].values, norm_hist=True)\n",
    "plt.show()"
   ]
  },
  {
   "cell_type": "code",
   "execution_count": 48,
   "metadata": {},
   "outputs": [
    {
     "data": {
      "image/png": "[encoded data removed]",
      "text/plain": [
       "<Figure size 432x288 with 1 Axes>"
      ]
     },
     "metadata": {
      "needs_background": "light"
     },
     "output_type": "display_data"
    }
   ],
   "source": [
    "sns.distplot(df[\"dropoff_latitude\"].values, norm_hist=True)  \n",
    "plt.show()"
   ]
  },
  {
   "cell_type": "code",
   "execution_count": 49,
   "metadata": {},
   "outputs": [
    {
     "data": {
      "image/png": "[encoded data removed]",
      "text/plain": [
       "<Figure size 432x288 with 1 Axes>"
      ]
     },
     "metadata": {
      "needs_background": "light"
     },
     "output_type": "display_data"
    }
   ],
   "source": [
    "sns.distplot(df[\"trip_duration\"].values, norm_hist=True)  \n",
    "plt.show()"
   ]
  },
  {
   "cell_type": "code",
   "execution_count": 50,
   "metadata": {},
   "outputs": [
    {
     "data": {
      "image/png": "[encoded data removed]",
      "text/plain": [
       "<Figure size 432x288 with 6 Axes>"
      ]
     },
     "metadata": {
      "needs_background": "light"
     },
     "output_type": "display_data"
    }
   ],
   "source": [
    "\n",
    "#boxplot figure of distribution of numerical values\n",
    "plt.subplot(6,1,1)\n",
    "sns.boxplot(data=df[[\"vendor_id\"]], orient=\"h\")\n",
    "\n",
    "plt.subplot(6,1,2)\n",
    "sns.boxplot(data=df[[\"passenger_count\"]], orient=\"h\")\n",
    "\n",
    "plt.subplot(6,1,3)\n",
    "sns.boxplot(data=df[[\"pickup_longitude\"]], orient=\"h\")\n",
    "\n",
    "plt.subplot(6,1,4)\n",
    "sns.boxplot(data=df[[\"pickup_latitude\"]], orient=\"h\")\n",
    "\n",
    "plt.subplot(6,1,5)\n",
    "sns.boxplot(data=df[[\"dropoff_latitude\"]], orient=\"h\")\n",
    "\n",
    "plt.subplot(6,1,6)\n",
    "sns.boxplot(data=df[[\"trip_duration\"]], orient=\"h\")\n",
    "\n",
    "\n",
    "plt.tight_layout()  # auto. positioning of subplots\n",
    "plt.show()\n",
    "\n"
   ]
  },
  {
   "cell_type": "markdown",
   "metadata": {},
   "source": [
    "##### Create two new columns named ”pickup district” and ”dropoﬀ district” by applying reverse geocoding 1 2 to associated coordinates."
   ]
  },
  {
   "cell_type": "code",
   "execution_count": 51,
   "metadata": {},
   "outputs": [
    {
     "name": "stdout",
     "output_type": "stream",
     "text": [
      "Requirement already satisfied: reverse_geocoder in c:\\users\\asus\\anaconda3\\lib\\site-packages (1.5.1)\n",
      "Requirement already satisfied: numpy>=1.11.0 in c:\\users\\asus\\anaconda3\\lib\\site-packages (from reverse_geocoder) (1.15.4)\n",
      "Requirement already satisfied: scipy>=0.17.1 in c:\\users\\asus\\anaconda3\\lib\\site-packages (from reverse_geocoder) (1.1.0)\n"
     ]
    }
   ],
   "source": [
    "import sys\n",
    "!{sys.executable} -m pip install reverse_geocoder"
   ]
  },
  {
   "cell_type": "code",
   "execution_count": 52,
   "metadata": {},
   "outputs": [],
   "source": [
    "#print(df['pickup_latitude'].values[3])"
   ]
  },
  {
   "cell_type": "code",
   "execution_count": 53,
   "metadata": {},
   "outputs": [],
   "source": [
    "import reverse_geocoder as rg\n",
    "lat = df[\"pickup_latitude\"]\n",
    "long = df[\"pickup_longitude\"]\n",
    "pickup_dist_data = list(zip(lat,long))\n",
    "results = rg.search(pickup_dist_data) # default mode = 2\n",
    "a_list=[]\n",
    "for x in range(len(results)):\n",
    "    a_list.append(results[x]['name'])\n",
    "    \n",
    "df.insert(5,\"pickup_district\",a_list)\n",
    "\n",
    "lat2 = df[\"dropoff_latitude\"]\n",
    "long2 = df[\"dropoff_longitude\"]\n",
    "dropoff_dist_data = list(zip(lat2,long2))\n",
    "results2 = rg.search(dropoff_dist_data) # default mode = 2\n",
    "a_list=[]\n",
    "for x in range(len(results2)):\n",
    "    a_list.append(results2[x]['name'])\n",
    "    \n",
    "df.insert(6,\"dropoff_district\",a_list)"
   ]
  },
  {
   "cell_type": "code",
   "execution_count": 54,
   "metadata": {},
   "outputs": [],
   "source": [
    "#the head of the columns and the example 4 rows to see d,what data include after added pickup_district and dropoff_district \n",
    "#print(df.head())"
   ]
  },
  {
   "cell_type": "markdown",
   "metadata": {},
   "source": [
    "##### Extract the top 5 districts where passengers prefer to leave and arrive"
   ]
  },
  {
   "cell_type": "code",
   "execution_count": 55,
   "metadata": {},
   "outputs": [
    {
     "name": "stdout",
     "output_type": "stream",
     "text": [
      "Manhattan           45329\n",
      "New York City       34625\n",
      "Long Island City    17787\n",
      "Weehawken           11334\n",
      "The Bronx            2777\n",
      "Name: pickup_district, dtype: int64\n"
     ]
    }
   ],
   "source": [
    "print(df['pickup_district'].value_counts().head(5))\n"
   ]
  },
  {
   "cell_type": "code",
   "execution_count": 56,
   "metadata": {},
   "outputs": [
    {
     "name": "stdout",
     "output_type": "stream",
     "text": [
      "Manhattan           44478\n",
      "New York City       31082\n",
      "Long Island City    19919\n",
      "Weehawken           10621\n",
      "Brooklyn             2059\n",
      "Name: dropoff_district, dtype: int64\n"
     ]
    }
   ],
   "source": [
    "print(df['dropoff_district'].value_counts().head(5))\n"
   ]
  },
  {
   "cell_type": "markdown",
   "metadata": {},
   "source": [
    " ##### Create a new column named ”distance” by utilizing pick up and drop oﬀ coordinates "
   ]
  },
  {
   "cell_type": "code",
   "execution_count": 57,
   "metadata": {},
   "outputs": [
    {
     "name": "stdout",
     "output_type": "stream",
     "text": [
      "Requirement already satisfied: geopy in c:\\users\\asus\\anaconda3\\lib\\site-packages (1.18.1)\n",
      "Requirement already satisfied: geographiclib<2,>=1.49 in c:\\users\\asus\\anaconda3\\lib\\site-packages (from geopy) (1.49)\n"
     ]
    }
   ],
   "source": [
    "import sys\n",
    "!{sys.executable} -m pip install geopy"
   ]
  },
  {
   "cell_type": "code",
   "execution_count": 58,
   "metadata": {},
   "outputs": [],
   "source": [
    "from geopy.distance import geodesic\n",
    "lat = df[\"pickup_latitude\"]\n",
    "long = df[\"pickup_longitude\"]\n",
    "lat_drop = df[\"dropoff_latitude\"]\n",
    "long_drop = df[\"dropoff_longitude\"]\n",
    "pickup_dist_data = list(zip(lat,long))\n",
    "dropoff_dist_data = list(zip(lat_drop,long_drop))\n",
    "distList=[]\n",
    "for var in range(len(pickup_dist_data)):\n",
    "    dist = geodesic(pickup_dist_data[var], dropoff_dist_data[var]).miles\n",
    "    distList.append(dist)\n",
    "df.insert(2,\"distance\",distList)"
   ]
  },
  {
   "cell_type": "code",
   "execution_count": 59,
   "metadata": {},
   "outputs": [],
   "source": [
    "#print(df.head())"
   ]
  },
  {
   "cell_type": "markdown",
   "metadata": {},
   "source": [
    " ##### Create a new column named ”time of day” by aggregating timestamps in ”pickup datetime” into 5 diﬀerent categories.\n",
    "##### – 7-9 AM: ”rush hour morning” \n",
    "##### – 9 AM - 4 PM : ”afternoon” \n",
    "##### – 4-6 PM : ”rush hour evening” \n",
    "##### – 6-11 PM : ”evening” – 11 PM \n",
    "##### - 7 AM : ”late night”\n"
   ]
  },
  {
   "cell_type": "code",
   "execution_count": 60,
   "metadata": {},
   "outputs": [],
   "source": [
    "datetime = df[\"pickup_datetime\"]\n",
    "timeList=[]\n",
    "for var in range(len(datetime)):\n",
    "    if datetime.values[var][11:13]>='07'and datetime.values[var][11:13]<'09':\n",
    "        #print(datetime.values[var][11:13])\n",
    "        #print(1,datetime.values[var])\n",
    "        timeOfDay=\"rush_hour_morning\"\n",
    "        timeList.append(timeOfDay)\n",
    "    elif datetime.values[var][11:13]>='09'and datetime.values[var][11:13]<'16':\n",
    "        #print(datetime.values[var][11:13])\n",
    "        #print(2,datetime.values[var])\n",
    "        timeOfDay=\"afternoon\"\n",
    "        timeList.append(timeOfDay)\n",
    "    elif datetime.values[var][11:13]>='16'and datetime.values[var][11:13]<'18':\n",
    "        #print(datetime.values[var][11:13])\n",
    "        #print(3,datetime.values[var])\n",
    "        timeOfDay=\"rush_hour_evening\"\n",
    "        timeList.append(timeOfDay)\n",
    "    elif datetime.values[var][11:13]>='18' and datetime.values[var][11:13]<'23':\n",
    "        #print(datetime.values[var][11:13])\n",
    "        #print(4,datetime.values[var])\n",
    "        timeOfDay=\"evening\"\n",
    "        timeList.append(timeOfDay)      \n",
    "    elif datetime.values[var][11:13]>='23'or datetime.values[var][11:13]<'07':\n",
    "        #print(datetime.values[var][11:13])\n",
    "        #print(5,datetime.values[var])\n",
    "        timeOfDay=\"late_night\"\n",
    "        timeList.append(timeOfDay)\n",
    "df.insert(2,\"time_of_day\",timeList)"
   ]
  },
  {
   "cell_type": "code",
   "execution_count": 61,
   "metadata": {},
   "outputs": [],
   "source": [
    "#print(df.head())"
   ]
  },
  {
   "cell_type": "markdown",
   "metadata": {},
   "source": [
    "##### Show how the average distance varies as time of the day changes"
   ]
  },
  {
   "cell_type": "code",
   "execution_count": 62,
   "metadata": {},
   "outputs": [
    {
     "name": "stdout",
     "output_type": "stream",
     "text": [
      "time_of_day\n",
      "late_night           2.558580\n",
      "evening              2.099076\n",
      "rush_hour_evening    2.077128\n",
      "rush_hour_morning    1.943823\n",
      "afternoon            1.932456\n",
      "Name: distance, dtype: float64\n"
     ]
    },
    {
     "data": {
      "text/plain": [
       "<matplotlib.axes._subplots.AxesSubplot at 0x223206e9048>"
      ]
     },
     "execution_count": 62,
     "metadata": {},
     "output_type": "execute_result"
    },
    {
     "data": {
      "image/png": "[encoded data removed]",
      "text/plain": [
       "<Figure size 432x288 with 1 Axes>"
      ]
     },
     "metadata": {
      "needs_background": "light"
     },
     "output_type": "display_data"
    }
   ],
   "source": [
    "distanceOverTime = df.groupby(by=\"time_of_day\").mean()[\"distance\"].sort_values(ascending=False)[:5]\n",
    "print(distanceOverTime)\n",
    "distanceOverTime.plot(kind=\"barh\")  # does not match with the official list\n",
    "                               # since we removed some of the veterans"
   ]
  },
  {
   "cell_type": "markdown",
   "metadata": {},
   "source": [
    "##### Show how the trip duration varies as time of the day changes"
   ]
  },
  {
   "cell_type": "code",
   "execution_count": 63,
   "metadata": {},
   "outputs": [
    {
     "name": "stdout",
     "output_type": "stream",
     "text": [
      "time_of_day\n",
      "rush_hour_evening    1024.494552\n",
      "afternoon             963.922746\n",
      "rush_hour_morning     918.488716\n",
      "evening               893.595329\n",
      "late_night            866.095457\n",
      "Name: trip_duration, dtype: float64\n"
     ]
    },
    {
     "data": {
      "text/plain": [
       "<matplotlib.axes._subplots.AxesSubplot at 0x2231b5a1ac8>"
      ]
     },
     "execution_count": 63,
     "metadata": {},
     "output_type": "execute_result"
    },
    {
     "data": {
      "image/png": "[encoded data removed]",
      "text/plain": [
       "<Figure size 432x288 with 1 Axes>"
      ]
     },
     "metadata": {
      "needs_background": "light"
     },
     "output_type": "display_data"
    }
   ],
   "source": [
    "durationOverTime = df.groupby(by=\"time_of_day\").mean()[\"trip_duration\"].sort_values(ascending=False)[:5]\n",
    "print(durationOverTime)\n",
    "durationOverTime.plot(kind=\"barh\")  # does not match with the official list\n",
    "                               # since we removed some of the veterans"
   ]
  },
  {
   "cell_type": "code",
   "execution_count": 64,
   "metadata": {},
   "outputs": [
    {
     "data": {
      "text/html": [
       "<div>\n",
       "<style scoped>\n",
       "    .dataframe tbody tr th:only-of-type {\n",
       "        vertical-align: middle;\n",
       "    }\n",
       "\n",
       "    .dataframe tbody tr th {\n",
       "        vertical-align: top;\n",
       "    }\n",
       "\n",
       "    .dataframe thead th {\n",
       "        text-align: right;\n",
       "    }\n",
       "</style>\n",
       "<table border=\"1\" class=\"dataframe\">\n",
       "  <thead>\n",
       "    <tr style=\"text-align: right;\">\n",
       "      <th></th>\n",
       "      <th>id</th>\n",
       "      <th>vendor_id</th>\n",
       "      <th>time_of_day</th>\n",
       "      <th>distance</th>\n",
       "      <th>pickup_datetime</th>\n",
       "      <th>dropoff_datetime</th>\n",
       "      <th>passenger_count</th>\n",
       "      <th>pickup_district</th>\n",
       "      <th>dropoff_district</th>\n",
       "      <th>pickup_longitude</th>\n",
       "      <th>pickup_latitude</th>\n",
       "      <th>dropoff_longitude</th>\n",
       "      <th>dropoff_latitude</th>\n",
       "      <th>store_and_fwd_flag</th>\n",
       "      <th>trip_duration</th>\n",
       "    </tr>\n",
       "  </thead>\n",
       "  <tbody>\n",
       "    <tr>\n",
       "      <th>0</th>\n",
       "      <td>id2875421</td>\n",
       "      <td>2</td>\n",
       "      <td>rush_hour_evening</td>\n",
       "      <td>0.933406</td>\n",
       "      <td>2016-03-14 17:24:55</td>\n",
       "      <td>2016-03-14 17:32:30</td>\n",
       "      <td>1</td>\n",
       "      <td>Manhattan</td>\n",
       "      <td>Manhattan</td>\n",
       "      <td>-73.982155</td>\n",
       "      <td>40.767937</td>\n",
       "      <td>-73.964630</td>\n",
       "      <td>40.765602</td>\n",
       "      <td>N</td>\n",
       "      <td>455</td>\n",
       "    </tr>\n",
       "    <tr>\n",
       "      <th>1</th>\n",
       "      <td>id0012891</td>\n",
       "      <td>2</td>\n",
       "      <td>evening</td>\n",
       "      <td>3.178194</td>\n",
       "      <td>2016-03-10 21:45:01</td>\n",
       "      <td>2016-03-10 22:05:26</td>\n",
       "      <td>1</td>\n",
       "      <td>Long Island City</td>\n",
       "      <td>Manhattan</td>\n",
       "      <td>-73.981049</td>\n",
       "      <td>40.744339</td>\n",
       "      <td>-73.973000</td>\n",
       "      <td>40.789989</td>\n",
       "      <td>N</td>\n",
       "      <td>1225</td>\n",
       "    </tr>\n",
       "    <tr>\n",
       "      <th>2</th>\n",
       "      <td>id3361153</td>\n",
       "      <td>1</td>\n",
       "      <td>rush_hour_morning</td>\n",
       "      <td>0.928961</td>\n",
       "      <td>2016-03-11 07:11:23</td>\n",
       "      <td>2016-03-11 07:20:09</td>\n",
       "      <td>1</td>\n",
       "      <td>Weehawken</td>\n",
       "      <td>Manhattan</td>\n",
       "      <td>-73.994560</td>\n",
       "      <td>40.750526</td>\n",
       "      <td>-73.978500</td>\n",
       "      <td>40.756191</td>\n",
       "      <td>N</td>\n",
       "      <td>526</td>\n",
       "    </tr>\n",
       "    <tr>\n",
       "      <th>3</th>\n",
       "      <td>id2129090</td>\n",
       "      <td>1</td>\n",
       "      <td>afternoon</td>\n",
       "      <td>1.228003</td>\n",
       "      <td>2016-03-14 14:05:39</td>\n",
       "      <td>2016-03-14 14:28:05</td>\n",
       "      <td>1</td>\n",
       "      <td>Manhattan</td>\n",
       "      <td>Long Island City</td>\n",
       "      <td>-73.975090</td>\n",
       "      <td>40.758766</td>\n",
       "      <td>-73.953201</td>\n",
       "      <td>40.765068</td>\n",
       "      <td>N</td>\n",
       "      <td>1346</td>\n",
       "    </tr>\n",
       "    <tr>\n",
       "      <th>4</th>\n",
       "      <td>id0256505</td>\n",
       "      <td>1</td>\n",
       "      <td>afternoon</td>\n",
       "      <td>1.562103</td>\n",
       "      <td>2016-03-14 15:04:38</td>\n",
       "      <td>2016-03-14 15:16:13</td>\n",
       "      <td>1</td>\n",
       "      <td>New York City</td>\n",
       "      <td>New York City</td>\n",
       "      <td>-73.994484</td>\n",
       "      <td>40.745087</td>\n",
       "      <td>-73.998993</td>\n",
       "      <td>40.722710</td>\n",
       "      <td>N</td>\n",
       "      <td>695</td>\n",
       "    </tr>\n",
       "  </tbody>\n",
       "</table>\n",
       "</div>"
      ],
      "text/plain": [
       "          id  vendor_id        time_of_day  distance      pickup_datetime  \\\n",
       "0  id2875421          2  rush_hour_evening  0.933406  2016-03-14 17:24:55   \n",
       "1  id0012891          2            evening  3.178194  2016-03-10 21:45:01   \n",
       "2  id3361153          1  rush_hour_morning  0.928961  2016-03-11 07:11:23   \n",
       "3  id2129090          1          afternoon  1.228003  2016-03-14 14:05:39   \n",
       "4  id0256505          1          afternoon  1.562103  2016-03-14 15:04:38   \n",
       "\n",
       "      dropoff_datetime  passenger_count   pickup_district  dropoff_district  \\\n",
       "0  2016-03-14 17:32:30                1         Manhattan         Manhattan   \n",
       "1  2016-03-10 22:05:26                1  Long Island City         Manhattan   \n",
       "2  2016-03-11 07:20:09                1         Weehawken         Manhattan   \n",
       "3  2016-03-14 14:28:05                1         Manhattan  Long Island City   \n",
       "4  2016-03-14 15:16:13                1     New York City     New York City   \n",
       "\n",
       "   pickup_longitude  pickup_latitude  dropoff_longitude  dropoff_latitude  \\\n",
       "0        -73.982155        40.767937         -73.964630         40.765602   \n",
       "1        -73.981049        40.744339         -73.973000         40.789989   \n",
       "2        -73.994560        40.750526         -73.978500         40.756191   \n",
       "3        -73.975090        40.758766         -73.953201         40.765068   \n",
       "4        -73.994484        40.745087         -73.998993         40.722710   \n",
       "\n",
       "  store_and_fwd_flag  trip_duration  \n",
       "0                  N            455  \n",
       "1                  N           1225  \n",
       "2                  N            526  \n",
       "3                  N           1346  \n",
       "4                  N            695  "
      ]
     },
     "execution_count": 64,
     "metadata": {},
     "output_type": "execute_result"
    }
   ],
   "source": [
    "df.head()"
   ]
  },
  {
   "cell_type": "markdown",
   "metadata": {},
   "source": [
    "# HYPOTHESIS TESTING\n"
   ]
  },
  {
   "cell_type": "markdown",
   "metadata": {},
   "source": [
    "1. Does passenger group size aﬀect the distance?\n",
    "    • Null hypothesis: passenger group size has no eﬀect on the distance. \n",
    "    • Apply a suitable statistical test and show the results.\n",
    "    \n",
    "    According to null hypothesis the result of p test equal to 9.5e-09 mean that the score is lower than %5 and we can say that group size affect the distance\n",
    "    \n",
    "2. Do trip distances increase in weekends?\n",
    "    • Null hypothesis: The day of the week has no eﬀect on the distance.\n",
    "    • Again, apply a suitable statistical test and show the results. \n",
    "    \n",
    "    According to null hypothesis the result of p test equal to 2.01e-08 mean that the score is lower than %5 and we can say that day of week affect the distance\n",
    "    \n",
    "RESULTS ARE SHOWN BELOW:"
   ]
  },
  {
   "cell_type": "code",
   "execution_count": 65,
   "metadata": {},
   "outputs": [
    {
     "data": {
      "text/plain": [
       "9.55513348155769e-07"
      ]
     },
     "execution_count": 65,
     "metadata": {},
     "output_type": "execute_result"
    }
   ],
   "source": [
    "from scipy import stats\n",
    "s_df = df[(df[\"passenger_count\"] == 1)]\n",
    "m_df = df[df[\"passenger_count\"] != 1]\n",
    "single = s_df[\"distance\"].values\n",
    "multi = m_df[\"distance\"].values\n",
    "_, p_value = stats.ttest_ind(a=single, b=multi, equal_var=False)\n",
    "p_value"
   ]
  },
  {
   "cell_type": "code",
   "execution_count": 66,
   "metadata": {},
   "outputs": [
    {
     "data": {
      "text/plain": [
       "2.0924144330692153e-08"
      ]
     },
     "execution_count": 66,
     "metadata": {},
     "output_type": "execute_result"
    }
   ],
   "source": [
    "df[\"pickup_datetime\"] = pd.to_datetime(df[\"pickup_datetime\"])\n",
    "s_df = df[(df[\"pickup_datetime\"].dt.dayofweek == 5) | (df[\"pickup_datetime\"].dt.dayofweek == 6 )]\n",
    "m_df = df[(df[\"pickup_datetime\"].dt.dayofweek != 5) & (df[\"pickup_datetime\"].dt.dayofweek != 6 )]\n",
    "single = s_df[\"distance\"].values\n",
    "multi = m_df[\"distance\"].values\n",
    "_, p_value = stats.ttest_ind(a=single, b=multi, equal_var=False)\n",
    "p_value"
   ]
  },
  {
   "cell_type": "code",
   "execution_count": null,
   "metadata": {},
   "outputs": [],
   "source": []
  },
  {
   "cell_type": "code",
   "execution_count": null,
   "metadata": {},
   "outputs": [],
   "source": []
  },
  {
   "cell_type": "code",
   "execution_count": null,
   "metadata": {},
   "outputs": [],
   "source": []
  },
  {
   "cell_type": "code",
   "execution_count": null,
   "metadata": {},
   "outputs": [],
   "source": []
  },
  {
   "cell_type": "code",
   "execution_count": null,
   "metadata": {},
   "outputs": [],
   "source": []
  }
 ],
 "metadata": {
  "kernelspec": {
   "display_name": "Python 3",
   "language": "python",
   "name": "python3"
  },
  "language_info": {
   "codemirror_mode": {
    "name": "ipython",
    "version": 3
   },
   "file_extension": ".py",
   "mimetype": "text/x-python",
   "name": "python",
   "nbconvert_exporter": "python",
   "pygments_lexer": "ipython3",
   "version": "3.7.1"
  }
 },
 "nbformat": 4,
 "nbformat_minor": 2
}
